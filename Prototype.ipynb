{
 "cells": [
  {
   "cell_type": "code",
   "execution_count": 10,
   "metadata": {},
   "outputs": [],
   "source": [
    "import openai\n",
    "import os\n",
    "from dotenv import load_dotenv"
   ]
  },
  {
   "cell_type": "code",
   "execution_count": 11,
   "metadata": {},
   "outputs": [],
   "source": [
    "load_dotenv()\n",
    "openai.api_key = os.getenv('OPENAI_API_KEY')"
   ]
  },
  {
   "cell_type": "code",
   "execution_count": 12,
   "metadata": {},
   "outputs": [],
   "source": [
    "def get_telugu_poetry(query) -> str:\n",
    "    query_to_extract_info = f\"\"\"Based on the main topic mentioned in the input delimited by ++++, generate a short telegu poem and provide a translation. \n",
    "    +++\n",
    "    {query}\n",
    "    \"\"\" \n",
    "    messages = []\n",
    "    messages.append( {\"role\": \"user\", \"content\": query_to_extract_info} )\n",
    "    response = openai.ChatCompletion.create(\n",
    "        model=\"gpt-3.5-turbo\",\n",
    "        messages=messages,\n",
    "        temperature=1, # this is the degree of randomness of the model's output\n",
    "    )\n",
    "\n",
    "    response_text = (response.choices[0].message[\"content\"])\n",
    "    return response_text"
   ]
  },
  {
   "cell_type": "code",
   "execution_count": 13,
   "metadata": {},
   "outputs": [
    {
     "data": {
      "text/plain": [
       "'పాముపగడ్డె\\nదొంగమ్మ పాముపగడ్డె \\nనాలో పోలిని బలిపించెదె \\nఎండరోజు దోయించుకునేదే \\nఏదో తెళియచే వెలిగింది.\\n\\n(Translation) \\nSnails\\nThe little snail\\nI crushed beneath my foot\\nDying a slow death\\nMade me aware.'"
      ]
     },
     "execution_count": 13,
     "metadata": {},
     "output_type": "execute_result"
    }
   ],
   "source": [
    "get_telugu_poetry(\"Snails\")"
   ]
  }
 ],
 "metadata": {
  "kernelspec": {
   "display_name": "Python 3",
   "language": "python",
   "name": "python3"
  },
  "language_info": {
   "codemirror_mode": {
    "name": "ipython",
    "version": 3
   },
   "file_extension": ".py",
   "mimetype": "text/x-python",
   "name": "python",
   "nbconvert_exporter": "python",
   "pygments_lexer": "ipython3",
   "version": "3.10.11"
  },
  "orig_nbformat": 4
 },
 "nbformat": 4,
 "nbformat_minor": 2
}
